{
 "cells": [
  {
   "cell_type": "markdown",
   "id": "4dfce678",
   "metadata": {},
   "source": [
    "## Basic Notebook Example\n",
    "\n",
    "The objective of this notebook is to demonstrate the basic necessities and features of notebook based report generation.\n",
    "\n",
    "The first thing to establish is that these notebooks ar parameterizable. This is done by creating a python cell, assigning some default values to variables, and tagging the cell with the tag `parameters`\n",
    "\n",
    "Example:"
   ]
  },
  {
   "cell_type": "code",
   "execution_count": null,
   "id": "cc6ca370",
   "metadata": {
    "tags": [
     "parameters",
     "remove_input"
    ]
   },
   "outputs": [],
   "source": [
    "# parameters\n",
    "\n",
    "slope: float = 1.2  # adding help text can be achieved with in-line comments\n",
    "intercept: float = 0.5  # y-intercept of the line\n",
    "x_range: tuple = (-5, 5)  # range of x values to consider\n",
    "step_size: float = 0.5  # step size for generating x values"
   ]
  },
  {
   "cell_type": "markdown",
   "id": "629f32d8",
   "metadata": {},
   "source": [
    "Now you can create cells that are used to import or compute reporting dependencies or for display. There are three other cell tags that will help with the formatting of your report:\n",
    "\n",
    "- `remove_input`: This cell tag removes the display of any code or markdown input. It is not likely that you will use this for markdown text, but very likely that you will use it on every python cell.\n",
    "- `remove_output`: This cell tag removes the output (including any items from memory that you may have wanted to use later).\n",
    "- `remove_cell`: This cell tag removes the entire cell input and output from the output report. Handy if you want instructions or examples for a report editor that you don't intend to be displayed in the final report.\n",
    "\n",
    "Next we will import a few common items that are often used in reporting, and remove the input so the import statements don't display in the report."
   ]
  },
  {
   "cell_type": "code",
   "execution_count": null,
   "id": "ddef9fb8",
   "metadata": {
    "tags": [
     "remove_input"
    ]
   },
   "outputs": [],
   "source": [
    "import itables  # for pagination and searching tabular data\n",
    "import matplotlib.pyplot as plt  # what's a report without a plot or two?\n",
    "import numpy as np  # because we all love numpy\n",
    "import pandas as pd  # for manipulating and displaying tabular data\n",
    "from IPython.display import (  # for displaying formatted text in python cells\n",
    "    Markdown,\n",
    "    display,\n",
    ")"
   ]
  },
  {
   "cell_type": "code",
   "execution_count": null,
   "id": "f971af94",
   "metadata": {
    "tags": [
     "remove_input"
    ]
   },
   "outputs": [],
   "source": [
    "display(\n",
    "    Markdown(\n",
    "        f\"\"\"\n",
    "This is a parameterized markdown example. Here we display all the parameters, defaults and any that were passed by the notebook endpoint in the report catalog.:\n",
    "- Slope: {slope}\n",
    "- Intercept: {intercept}\n",
    "- X Range: {x_range}\n",
    "- Step Size: {step_size}\n",
    "\n",
    "Next we will compute some values and display them in a table.\n",
    "\"\"\"\n",
    "    )\n",
    ")"
   ]
  },
  {
   "cell_type": "code",
   "execution_count": null,
   "id": "d845c8b4",
   "metadata": {
    "tags": [
     "remove_input"
    ]
   },
   "outputs": [],
   "source": [
    "x = np.arange(x_range[0], x_range[1] + step_size, step_size)\n",
    "y = slope * x + intercept\n",
    "df = pd.DataFrame({\"x\": x, \"y\": y})\n",
    "\n",
    "# Display the DataFrame with itables for better interactivity\n",
    "itables.show(\n",
    "    df.style.background_gradient(cmap=\"viridis\"),\n",
    "    allow_html=True,\n",
    "    lengthMenu=[5, 10, 21],\n",
    "    pageLength=5,\n",
    ")"
   ]
  },
  {
   "cell_type": "markdown",
   "id": "0e5984e6",
   "metadata": {},
   "source": [
    "Finally, we can display a plot of the values computed using the input parameters."
   ]
  },
  {
   "cell_type": "code",
   "execution_count": null,
   "id": "27c55442",
   "metadata": {
    "tags": [
     "remove_input"
    ]
   },
   "outputs": [],
   "source": [
    "fig = plt.figure(figsize=(10, 6))\n",
    "plt.plot(x, y, \"c-.\")\n",
    "plt.plot(x, y, \"r.\")\n",
    "plt.title(\"Line Plot of y = mx + b\")\n",
    "plt.xlabel(\"x values\")\n",
    "plt.ylabel(\"y values\")\n",
    "plt.grid(True)\n",
    "plt.axhline(0, color=\"black\", linewidth=1, linestyle=\"--\")\n",
    "plt.axvline(0, color=\"black\", linewidth=1, linestyle=\"--\")\n",
    "plt.show()"
   ]
  }
 ],
 "metadata": {
  "kernelspec": {
   "display_name": "venv",
   "language": "python",
   "name": "python3"
  },
  "language_info": {
   "codemirror_mode": {
    "name": "ipython",
    "version": 3
   },
   "file_extension": ".py",
   "mimetype": "text/x-python",
   "name": "python",
   "nbconvert_exporter": "python",
   "pygments_lexer": "ipython3",
   "version": "3.10.12"
  }
 },
 "nbformat": 4,
 "nbformat_minor": 5
}
