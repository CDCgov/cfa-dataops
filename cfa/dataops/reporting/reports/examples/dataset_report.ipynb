{
 "cells": [
  {
   "cell_type": "markdown",
   "id": "0a78f691",
   "metadata": {},
   "source": [
    "# Report Example\n",
    "A convenient tool for looking at the current status of one's data is to build a report. With this example, we are building a simple dataset report that displays summary statistics for a specific dataset. This includes both the extract/raw data and the loaded/transformed data."
   ]
  },
  {
   "cell_type": "code",
   "execution_count": null,
   "id": "48f3f01a",
   "metadata": {
    "tags": [
     "remove_input"
    ]
   },
   "outputs": [],
   "source": [
    "import altair as alt\n",
    "import itables\n",
    "import pandas as pd\n",
    "from IPython.display import Markdown, display\n",
    "\n",
    "from cfa.dataops import datacat, get_data  # noqa: F401"
   ]
  },
  {
   "cell_type": "code",
   "execution_count": null,
   "id": "684ee8ea",
   "metadata": {
    "tags": [
     "parameters",
     "remove_input"
    ]
   },
   "outputs": [],
   "source": [
    "dataset_namespace: str = (\n",
    "    \"scenarios.covid19vax_trends\"  # This is the dataset to build a report for\n",
    ")"
   ]
  },
  {
   "cell_type": "code",
   "execution_count": null,
   "id": "7b0a1f79",
   "metadata": {
    "tags": [
     "remove_input"
    ]
   },
   "outputs": [],
   "source": [
    "config = eval(f\"datacat.{dataset_namespace}\")"
   ]
  },
  {
   "cell_type": "markdown",
   "id": "dd716e15",
   "metadata": {},
   "source": [
    "## Dataset Config\n",
    "\n",
    "---"
   ]
  },
  {
   "cell_type": "code",
   "execution_count": null,
   "id": "a6f7f024",
   "metadata": {
    "tags": [
     "remove_input"
    ]
   },
   "outputs": [],
   "source": [
    "with open(config._metadata.config_path, \"r\") as f:\n",
    "    full_config = f.read()\n",
    "\n",
    "display(\n",
    "    Markdown(\n",
    "        f\"\"\"\n",
    "```toml\n",
    "{full_config}\n",
    "```    \n",
    "\"\"\"\n",
    "    )\n",
    ")"
   ]
  },
  {
   "cell_type": "markdown",
   "id": "12cab1c5",
   "metadata": {},
   "source": [
    "---\n",
    "\n",
    "## Extract\n",
    "\n",
    "### Available Versions"
   ]
  },
  {
   "cell_type": "code",
   "execution_count": null,
   "id": "9070321e",
   "metadata": {
    "tags": [
     "remove_input"
    ]
   },
   "outputs": [],
   "source": [
    "print(\n",
    "    *[\n",
    "        j + \" *latest*\" if i == 0 else j\n",
    "        for i, j in enumerate(config.extract.get_versions())\n",
    "    ],\n",
    "    sep=\"\\n\",\n",
    ")"
   ]
  },
  {
   "cell_type": "markdown",
   "id": "930a2528",
   "metadata": {},
   "source": [
    "### Data Info (using latest)"
   ]
  },
  {
   "cell_type": "code",
   "execution_count": null,
   "id": "229d436b",
   "metadata": {
    "tags": [
     "remove_input"
    ]
   },
   "outputs": [],
   "source": [
    "raw_df = get_data(\n",
    "    dataset_namespace, type=\"raw\", version=\"latest\", output=\"pandas\"\n",
    ")"
   ]
  },
  {
   "cell_type": "code",
   "execution_count": null,
   "id": "1e335af2",
   "metadata": {
    "tags": [
     "remove_input"
    ]
   },
   "outputs": [],
   "source": [
    "raw_df.info()"
   ]
  },
  {
   "cell_type": "markdown",
   "id": "d26ab35d",
   "metadata": {},
   "source": [
    "### Sample (n=20 using latest)"
   ]
  },
  {
   "cell_type": "code",
   "execution_count": null,
   "id": "53a9d84d",
   "metadata": {
    "tags": [
     "remove_input"
    ]
   },
   "outputs": [],
   "source": [
    "itables.show(\n",
    "    raw_df.sample(20).style.hide().background_gradient(subset=[\"census\"]),\n",
    "    allow_html=True,\n",
    "    lengthMenu=[5, 20],\n",
    "    pageLength=5,\n",
    ")"
   ]
  },
  {
   "cell_type": "markdown",
   "id": "a2c6d123",
   "metadata": {},
   "source": [
    "## Load/Transformed\n",
    "### Available Versions"
   ]
  },
  {
   "cell_type": "code",
   "execution_count": null,
   "id": "f1245fbc",
   "metadata": {
    "tags": [
     "remove_input"
    ]
   },
   "outputs": [],
   "source": [
    "print(\n",
    "    *[\n",
    "        j + \" *latest*\" if i == 0 else j\n",
    "        for i, j in enumerate(config.load.get_versions())\n",
    "    ],\n",
    "    sep=\"\\n\",\n",
    ")"
   ]
  },
  {
   "cell_type": "markdown",
   "id": "22691c67",
   "metadata": {},
   "source": [
    "### Data Info (using latest)"
   ]
  },
  {
   "cell_type": "code",
   "execution_count": null,
   "id": "74c8543a",
   "metadata": {
    "tags": [
     "remove_input"
    ]
   },
   "outputs": [],
   "source": [
    "load_df = get_data(\n",
    "    dataset_namespace, type=\"transformed\", version=\"latest\", output=\"pandas\"\n",
    ")"
   ]
  },
  {
   "cell_type": "code",
   "execution_count": null,
   "id": "106de06c",
   "metadata": {
    "tags": [
     "remove_input"
    ]
   },
   "outputs": [],
   "source": [
    "load_df.info()"
   ]
  },
  {
   "cell_type": "markdown",
   "id": "56f18d40",
   "metadata": {},
   "source": [
    "### Sample (n=20 using latest)"
   ]
  },
  {
   "cell_type": "code",
   "execution_count": null,
   "id": "45cf0d90",
   "metadata": {
    "tags": [
     "remove_input"
    ]
   },
   "outputs": [],
   "source": [
    "itables.show(\n",
    "    load_df.sample(20).style.hide(),\n",
    "    allow_html=True,\n",
    "    lengthMenu=[5, 20],\n",
    "    pageLength=5,\n",
    ")"
   ]
  },
  {
   "cell_type": "code",
   "execution_count": null,
   "id": "82413e32",
   "metadata": {
    "tags": [
     "remove_input"
    ]
   },
   "outputs": [],
   "source": [
    "if dataset_namespace == \"scenarios.covid19vax_trends\":\n",
    "    display(\n",
    "        Markdown(\n",
    "            \"\"\"\n",
    "## Plots\n",
    "\n",
    "Here is an example of plotting in a report and breaking data into a dropdown selection.\n",
    "\n",
    "\"\"\"\n",
    "        )\n",
    "    )\n",
    "    input_dropdown = alt.binding_select(options=[1, 2, 3], name=\"Dose: \")\n",
    "    selection = alt.selection_point(\n",
    "        fields=[\"dose\"], bind=input_dropdown, empty=False, value=1\n",
    "    )\n",
    "    color = (\n",
    "        alt.when(selection)\n",
    "        .then(alt.Color(\"age:N\", legend=alt.Legend(title=\"Age Group\")))\n",
    "        .otherwise(alt.value(None))\n",
    "    )\n",
    "\n",
    "    alt.data_transformers.disable_max_rows()\n",
    "\n",
    "    load_df[\"dose1_pop\"] = [i[0] for i in load_df[\"total\"]]\n",
    "    load_df[\"dose2_pop\"] = [i[1] for i in load_df[\"total\"]]\n",
    "    load_df[\"dose3_pop\"] = [i[2] for i in load_df[\"total\"]]\n",
    "    load_df[\"date\"] = pd.to_datetime(load_df.date)\n",
    "    dose_cols = [\"dose1_pop\", \"dose2_pop\", \"dose3_pop\"]\n",
    "    df_stack = []\n",
    "    for i in [1, 2, 3]:\n",
    "        df = load_df[[\"date\", \"state\", \"age\", f\"dose{i}_pop\"]].rename(\n",
    "            columns={f\"dose{i}_pop\": \"dose_pop\"}\n",
    "        )\n",
    "        df[\"dose\"] = i\n",
    "        df_stack.append(df)\n",
    "\n",
    "    plot_df = pd.concat(df_stack)\n",
    "    chart = (\n",
    "        alt.Chart(plot_df[plot_df.state == \"US\"])\n",
    "        .mark_point()\n",
    "        .encode(\n",
    "            x=\"date:T\",\n",
    "            y=\"dose_pop:Q\",\n",
    "            color=color,\n",
    "        )\n",
    "        .add_params(selection)\n",
    "        .properties(\n",
    "            width=800,\n",
    "            height=400,\n",
    "            title=\"US\",\n",
    "        )\n",
    "    )\n",
    "\n",
    "    chart.show()"
   ]
  }
 ],
 "metadata": {
  "kernelspec": {
   "display_name": "venv",
   "language": "python",
   "name": "python3"
  },
  "language_info": {
   "codemirror_mode": {
    "name": "ipython",
    "version": 3
   },
   "file_extension": ".py",
   "mimetype": "text/x-python",
   "name": "python",
   "nbconvert_exporter": "python",
   "pygments_lexer": "ipython3",
   "version": "3.10.12"
  }
 },
 "nbformat": 4,
 "nbformat_minor": 5
}
